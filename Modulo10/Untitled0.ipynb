{
 "metadata": {
  "name": "",
  "signature": "sha256:ad8f5d86559db396c6130c8411a64e2ce79de87382df097b988a5495e07ba7b2"
 },
 "nbformat": 3,
 "nbformat_minor": 0,
 "worksheets": [
  {
   "cells": [
    {
     "cell_type": "markdown",
     "metadata": {},
     "source": [
      "#Pr\u00e1cticas U-TAD\n",
      "\n",
      "###Por: Javier Serrano\n",
      "\n",
      "A continuaci\u00f3n mostramos un \u00edndice actualizado con las pr\u00e1cticas a entregar a partir de m\u00f3dulo 10:\n",
      "\n"
     ]
    }
   ],
   "metadata": {}
  }
 ]
}