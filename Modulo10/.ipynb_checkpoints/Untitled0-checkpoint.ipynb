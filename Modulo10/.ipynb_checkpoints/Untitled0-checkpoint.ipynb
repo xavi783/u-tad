{
 "metadata": {
  "name": "",
  "signature": "sha256:fd2a2e2b60d164da710817364649bf0a1be891f814ef8ad1d50a110ad204a890"
 },
 "nbformat": 3,
 "nbformat_minor": 0,
 "worksheets": []
}